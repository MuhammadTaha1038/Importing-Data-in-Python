{
 "cells": [
  {
   "cell_type": "markdown",
   "metadata": {},
   "source": [
    "<div style=\"\n",
    "    background-color: #0f0f1a;\n",
    "    color: #00ffff;\n",
    "    font-family: 'Segoe UI', Tahoma, Geneva, Verdana, sans-serif;\n",
    "    padding: 30px;\n",
    "    border-radius: 10px;\n",
    "    text-align: center;\n",
    "    box-shadow: 0 0 20px #00ffff;\n",
    "    font-size: 36px;\n",
    "    font-weight: bold;\n",
    "    margin-bottom: 30px;\n",
    "\">\n",
    "     Importing Data in Python\n",
    "</div>\n",
    "<div style=\"display: flex; align-items: center; justify-content: space-between; gap: 50px;\">\n",
    "\n",
    "  <div style=\"flex: 1; font-size: 16px; text-align: left\">\n",
    "    <h2><strong>Author:</strong> Muhammad Taha</h2>\n",
    "    <h2><strong>Date:</strong> July 2025</h2>\n",
    "    <h3><strong>Description:</strong></h3>\n",
    "    <p>\n",
    "      This notebook serves as a practical, example-rich guide to importing and handling various data formats in Python.\n",
    "      Covering everything from basic flat file reading using open() and context managers to loading structured data \n",
    "      with NumPy and pandas, this notebook is designed to build strong foundations in data ingestion. It also \n",
    "      includes examples on serializing objects using the pickle module, reading Excel sheets, parsing CSVs with \n",
    "      mixed data types, and even interacting with directories using os. Each section is supported by real code \n",
    "      implementations and clear explanations, making it beginner-friendly yet valuable for anyone looking to work \n",
    "      with real-world data in Python.\n",
    "    </p>\n",
    "  </div>\n",
    "\n",
    "  <div style=\"flex: 1; text-align: top;\">\n",
    "    <br><br><br><br><br><br><br>\n",
    "    <img src=\"images/image3.png\" \n",
    "         alt=\"Importing Data in Python Banner\" \n",
    "         style=\"max-width: 100%; border-radius: 10px;\" />\n",
    "  </div>\n",
    "\n",
    "</div>\n",
    "\n"
   ]
  },
  {
   "cell_type": "markdown",
   "metadata": {},
   "source": [
    "<style>\n",
    ".toc-container {\n",
    "  font-family: 'Segoe UI', sans-serif;\n",
    "  background-color: #121212;\n",
    "  color: #e0f7fa;\n",
    "  padding: 20px;\n",
    "  border-radius: 12px;\n",
    "  border-left: 4px solid #00ffff;\n",
    "  box-shadow: 0 0 10px rgba(0, 255, 255, 0.2);\n",
    "  font-size: 16px;\n",
    "  line-height: 1.8;\n",
    "  margin-bottom: 25px;\n",
    "}\n",
    "\n",
    ".toc-container a {\n",
    "  color: #00e5ff;\n",
    "  text-decoration: none;\n",
    "  transition: 0.2s ease-in-out;\n",
    "}\n",
    "\n",
    ".toc-container a:hover {\n",
    "  color: #1de9b6;\n",
    "  text-decoration: underline;\n",
    "}\n",
    "\n",
    ".toc-sub {\n",
    "  margin-left: 20px;\n",
    "  font-size: 15px;\n",
    "}\n",
    "</style>\n",
    "\n",
    "<div class=\"toc-container\">\n",
    "\n",
    "<h2> Table of Contents</h2>\n",
    "\n",
    "<ol>\n",
    "  <li><a href=\"#1-opening-flat-files\">Opening Flat Files</a>\n",
    "    <ul class=\"toc-sub\">\n",
    "      <li><a href=\"#using-context-managers\">Using Context Managers</a></li>\n",
    "      <li><a href=\"#reading-files-with-numpy\">Reading Files with NumPy</a></li>\n",
    "      <li><a href=\"#working-with-pandas-dataframes\">Working with Pandas DataFrames</a></li>\n",
    "    </ul>\n",
    "  </li>\n",
    "  <li><a href=\"#serializing-data-with-pickle\">Serializing Data with Pickle</a></li>\n",
    "  <li><a href=\"#loading-excel-files\">Loading Excel Files</a></li>\n",
    "  <li><a href=\"#4-openning-sas-files-\">Working with SAS Files</a></li>\n",
    "  <li><a href=\"#5-openning-stata-files-\">Working with STATA Files</a></li>\n",
    "  <li><a href=\"#6-openning-hdf5-files-\">Loading HDF5 Files</a></li>\n",
    "  <li><a href=\"#7-openning-matlab-files-\">Importing MATLAB Files</a></li>\n",
    "  <li><a href=\"#8-openning-rdbs-files-\">Extracting Data from Relational Databases</a></li>\n",
    "  <li><a href=\"#conclusion\">Conclusion</a></li>\n",
    "</ol>\n",
    "\n",
    "</div>\n"
   ]
  },
  {
   "cell_type": "markdown",
   "metadata": {},
   "source": [
    "\n",
    "## 1. **Opening Flat Files**:\n",
    "- Which contains the data in rows and columns, where each unique \\\n",
    "row is a single record and each column is attribute containing \\\n",
    "single item of information about records (e.g. Text files, comma seperated files etc) \n",
    "- `open()` function to make a connection with the file. It takes two arguments:\n",
    "  1. the path of file\n",
    "  2. `mode` (w) for writing, (r) for reading the file"
   ]
  },
  {
   "cell_type": "code",
   "execution_count": 1,
   "metadata": {},
   "outputs": [
    {
     "name": "stdout",
     "output_type": "stream",
     "text": [
      "Time\tPercent\n",
      "99\t0.067\n",
      "99\t0.133\n",
      "99\t0.067\n",
      "99\t0\n"
     ]
    }
   ],
   "source": [
    "file1 = open('files/Seaslugs.txt', mode='r')\n",
    "text = file1.read()\n",
    "file1.close()\n",
    "print('\\n'.join(text.splitlines()[:5]))     # to print only 5 lines"
   ]
  },
  {
   "cell_type": "markdown",
   "metadata": {},
   "source": [
    "### **by using a context manager: `with`**\n",
    "It makes a context where the file is opened, once context is finished, the file is no longer opened."
   ]
  },
  {
   "cell_type": "code",
   "execution_count": 2,
   "metadata": {},
   "outputs": [
    {
     "name": "stdout",
     "output_type": "stream",
     "text": [
      "Time\tPercent\n",
      "99\t0.067\n",
      "99\t0.133\n",
      "99\t0.067\n",
      "99\t0\n"
     ]
    }
   ],
   "source": [
    "with open('Files/seaslugs.txt', 'r') as file:\n",
    "    print('\\n'.join(text.splitlines()[:5]))  "
   ]
  },
  {
   "cell_type": "markdown",
   "metadata": {},
   "source": [
    "#### printing the file line by line"
   ]
  },
  {
   "cell_type": "code",
   "execution_count": 3,
   "metadata": {},
   "outputs": [
    {
     "name": "stdout",
     "output_type": "stream",
     "text": [
      "Time\tPercent\n",
      "\n",
      "99\t0.067\n",
      "\n",
      "99\t0.133\n",
      "\n"
     ]
    }
   ],
   "source": [
    "with open('Files/Seaslugs.txt', 'r') as file:\n",
    "    print(file.readline())\n",
    "    print(file.readline())\n",
    "    print(file.readline())"
   ]
  },
  {
   "cell_type": "markdown",
   "metadata": {},
   "source": [
    "### **Reading files with NUMPY**\n",
    "When your data is consisted of single data type, you can import it using numpy function \\\n",
    "  `numpy.loadtxt()` : which takes the following arguments :\n",
    "  1. filename : path of the file\n",
    "  2. delimeter: character which seperates the columns, default is whitespace\n",
    "  3. dtype: specifies the data type of all arrays\n",
    "  4. usecols : a list which specifies to include the columns\n",
    "  5. skiprows: number of rows to be skipped, usually used when file has a header"
   ]
  },
  {
   "cell_type": "code",
   "execution_count": 4,
   "metadata": {},
   "outputs": [
    {
     "data": {
      "text/plain": [
       "array([['99', '0.067'],\n",
       "       ['99', '0.133'],\n",
       "       ['99', '0.067'],\n",
       "       ['99', '0'],\n",
       "       ['99', '0']], dtype='<U5')"
      ]
     },
     "execution_count": 4,
     "metadata": {},
     "output_type": "execute_result"
    }
   ],
   "source": [
    "import numpy as np\n",
    "data = np.loadtxt('Files/Seaslugs.txt', skiprows=1, dtype='str')\n",
    "data[0:5]"
   ]
  },
  {
   "cell_type": "markdown",
   "metadata": {},
   "source": [
    "  ### **Working with Pandas DataFrame**\n",
    "  When your flat file contains columns of different data types, you can in store \\\n",
    "  it as a pandas daatframe by calling a function of pandas library in python \\\n",
    "`pd.read_csv()`"
   ]
  },
  {
   "cell_type": "code",
   "execution_count": 5,
   "metadata": {},
   "outputs": [
    {
     "data": {
      "text/html": [
       "<div>\n",
       "<style scoped>\n",
       "    .dataframe tbody tr th:only-of-type {\n",
       "        vertical-align: middle;\n",
       "    }\n",
       "\n",
       "    .dataframe tbody tr th {\n",
       "        vertical-align: top;\n",
       "    }\n",
       "\n",
       "    .dataframe thead th {\n",
       "        text-align: right;\n",
       "    }\n",
       "</style>\n",
       "<table border=\"1\" class=\"dataframe\">\n",
       "  <thead>\n",
       "    <tr style=\"text-align: right;\">\n",
       "      <th></th>\n",
       "      <th>1.0</th>\n",
       "      <th>0.0</th>\n",
       "      <th>0.0.1</th>\n",
       "      <th>0.0.2</th>\n",
       "      <th>0.0.3</th>\n",
       "      <th>0.0.4</th>\n",
       "      <th>0.0.5</th>\n",
       "      <th>0.0.6</th>\n",
       "      <th>0.0.7</th>\n",
       "      <th>0.0.8</th>\n",
       "      <th>...</th>\n",
       "      <th>0.0.677</th>\n",
       "      <th>0.0.678</th>\n",
       "      <th>0.0.679</th>\n",
       "      <th>0.0.680</th>\n",
       "      <th>0.0.681</th>\n",
       "      <th>0.0.682</th>\n",
       "      <th>0.0.683</th>\n",
       "      <th>0.0.684</th>\n",
       "      <th>0.0.685</th>\n",
       "      <th>0.0.686</th>\n",
       "    </tr>\n",
       "  </thead>\n",
       "  <tbody>\n",
       "    <tr>\n",
       "      <th>0</th>\n",
       "      <td>0.0</td>\n",
       "      <td>0.0</td>\n",
       "      <td>0.0</td>\n",
       "      <td>0.0</td>\n",
       "      <td>0.0</td>\n",
       "      <td>0.0</td>\n",
       "      <td>0.0</td>\n",
       "      <td>0.0</td>\n",
       "      <td>0.0</td>\n",
       "      <td>0.0</td>\n",
       "      <td>...</td>\n",
       "      <td>0.0</td>\n",
       "      <td>0.0</td>\n",
       "      <td>0.0</td>\n",
       "      <td>0.0</td>\n",
       "      <td>0.0</td>\n",
       "      <td>0.0</td>\n",
       "      <td>0.0</td>\n",
       "      <td>0.0</td>\n",
       "      <td>0.0</td>\n",
       "      <td>0.0</td>\n",
       "    </tr>\n",
       "    <tr>\n",
       "      <th>1</th>\n",
       "      <td>1.0</td>\n",
       "      <td>0.0</td>\n",
       "      <td>0.0</td>\n",
       "      <td>0.0</td>\n",
       "      <td>0.0</td>\n",
       "      <td>0.0</td>\n",
       "      <td>0.0</td>\n",
       "      <td>0.0</td>\n",
       "      <td>0.0</td>\n",
       "      <td>0.0</td>\n",
       "      <td>...</td>\n",
       "      <td>0.0</td>\n",
       "      <td>0.0</td>\n",
       "      <td>0.0</td>\n",
       "      <td>0.0</td>\n",
       "      <td>0.0</td>\n",
       "      <td>0.0</td>\n",
       "      <td>0.0</td>\n",
       "      <td>0.0</td>\n",
       "      <td>0.0</td>\n",
       "      <td>0.0</td>\n",
       "    </tr>\n",
       "    <tr>\n",
       "      <th>2</th>\n",
       "      <td>4.0</td>\n",
       "      <td>0.0</td>\n",
       "      <td>0.0</td>\n",
       "      <td>0.0</td>\n",
       "      <td>0.0</td>\n",
       "      <td>0.0</td>\n",
       "      <td>0.0</td>\n",
       "      <td>0.0</td>\n",
       "      <td>0.0</td>\n",
       "      <td>0.0</td>\n",
       "      <td>...</td>\n",
       "      <td>0.0</td>\n",
       "      <td>0.0</td>\n",
       "      <td>0.0</td>\n",
       "      <td>0.0</td>\n",
       "      <td>0.0</td>\n",
       "      <td>0.0</td>\n",
       "      <td>0.0</td>\n",
       "      <td>0.0</td>\n",
       "      <td>0.0</td>\n",
       "      <td>0.0</td>\n",
       "    </tr>\n",
       "    <tr>\n",
       "      <th>3</th>\n",
       "      <td>0.0</td>\n",
       "      <td>0.0</td>\n",
       "      <td>0.0</td>\n",
       "      <td>0.0</td>\n",
       "      <td>0.0</td>\n",
       "      <td>0.0</td>\n",
       "      <td>0.0</td>\n",
       "      <td>0.0</td>\n",
       "      <td>0.0</td>\n",
       "      <td>0.0</td>\n",
       "      <td>...</td>\n",
       "      <td>0.0</td>\n",
       "      <td>0.0</td>\n",
       "      <td>0.0</td>\n",
       "      <td>0.0</td>\n",
       "      <td>0.0</td>\n",
       "      <td>0.0</td>\n",
       "      <td>0.0</td>\n",
       "      <td>0.0</td>\n",
       "      <td>0.0</td>\n",
       "      <td>0.0</td>\n",
       "    </tr>\n",
       "    <tr>\n",
       "      <th>4</th>\n",
       "      <td>0.0</td>\n",
       "      <td>0.0</td>\n",
       "      <td>0.0</td>\n",
       "      <td>0.0</td>\n",
       "      <td>0.0</td>\n",
       "      <td>0.0</td>\n",
       "      <td>0.0</td>\n",
       "      <td>0.0</td>\n",
       "      <td>0.0</td>\n",
       "      <td>0.0</td>\n",
       "      <td>...</td>\n",
       "      <td>0.0</td>\n",
       "      <td>0.0</td>\n",
       "      <td>0.0</td>\n",
       "      <td>0.0</td>\n",
       "      <td>0.0</td>\n",
       "      <td>0.0</td>\n",
       "      <td>0.0</td>\n",
       "      <td>0.0</td>\n",
       "      <td>0.0</td>\n",
       "      <td>0.0</td>\n",
       "    </tr>\n",
       "  </tbody>\n",
       "</table>\n",
       "<p>5 rows × 785 columns</p>\n",
       "</div>"
      ],
      "text/plain": [
       "   1.0  0.0  0.0.1  0.0.2  0.0.3  0.0.4  0.0.5  0.0.6  0.0.7  0.0.8  ...  \\\n",
       "0  0.0  0.0    0.0    0.0    0.0    0.0    0.0    0.0    0.0    0.0  ...   \n",
       "1  1.0  0.0    0.0    0.0    0.0    0.0    0.0    0.0    0.0    0.0  ...   \n",
       "2  4.0  0.0    0.0    0.0    0.0    0.0    0.0    0.0    0.0    0.0  ...   \n",
       "3  0.0  0.0    0.0    0.0    0.0    0.0    0.0    0.0    0.0    0.0  ...   \n",
       "4  0.0  0.0    0.0    0.0    0.0    0.0    0.0    0.0    0.0    0.0  ...   \n",
       "\n",
       "   0.0.677  0.0.678  0.0.679  0.0.680  0.0.681  0.0.682  0.0.683  0.0.684  \\\n",
       "0      0.0      0.0      0.0      0.0      0.0      0.0      0.0      0.0   \n",
       "1      0.0      0.0      0.0      0.0      0.0      0.0      0.0      0.0   \n",
       "2      0.0      0.0      0.0      0.0      0.0      0.0      0.0      0.0   \n",
       "3      0.0      0.0      0.0      0.0      0.0      0.0      0.0      0.0   \n",
       "4      0.0      0.0      0.0      0.0      0.0      0.0      0.0      0.0   \n",
       "\n",
       "   0.0.685  0.0.686  \n",
       "0      0.0      0.0  \n",
       "1      0.0      0.0  \n",
       "2      0.0      0.0  \n",
       "3      0.0      0.0  \n",
       "4      0.0      0.0  \n",
       "\n",
       "[5 rows x 785 columns]"
      ]
     },
     "execution_count": 5,
     "metadata": {},
     "output_type": "execute_result"
    }
   ],
   "source": [
    "import pandas as pd\n",
    "df = pd.read_csv('Files/MNIST.csv')\n",
    "df.head()"
   ]
  },
  {
   "cell_type": "markdown",
   "metadata": {},
   "source": [
    "- We can convert this dataframe into a numpy array"
   ]
  },
  {
   "cell_type": "code",
   "execution_count": 6,
   "metadata": {},
   "outputs": [
    {
     "data": {
      "text/plain": [
       "array([[0., 0., 0., ..., 0., 0., 0.],\n",
       "       [1., 0., 0., ..., 0., 0., 0.],\n",
       "       [4., 0., 0., ..., 0., 0., 0.],\n",
       "       ...,\n",
       "       [2., 0., 0., ..., 0., 0., 0.],\n",
       "       [0., 0., 0., ..., 0., 0., 0.],\n",
       "       [5., 0., 0., ..., 0., 0., 0.]])"
      ]
     },
     "execution_count": 6,
     "metadata": {},
     "output_type": "execute_result"
    }
   ],
   "source": [
    "data_array = df.to_numpy()\n",
    "data_array"
   ]
  },
  {
   "cell_type": "markdown",
   "metadata": {},
   "source": [
    "----"
   ]
  },
  {
   "cell_type": "markdown",
   "metadata": {},
   "source": [
    "## 2. **Openning Pickled Files**"
   ]
  },
  {
   "cell_type": "markdown",
   "metadata": {},
   "source": [
    "#### **Serialize** : to convert a object into a sequence of bytes or bytestream also known as **pickling** \n",
    "We can serialize and read a pickled file by using the pickle library \\\n",
    "`pickle.dump(object, file_name, mode)` \\\n",
    "`pickle.load(file, mode)`\n"
   ]
  },
  {
   "cell_type": "code",
   "execution_count": 7,
   "metadata": {},
   "outputs": [
    {
     "name": "stdout",
     "output_type": "stream",
     "text": [
      "<class 'dict'>\n",
      "successfully pickled\n"
     ]
    }
   ],
   "source": [
    "import pickle\n",
    "dict = {'key1': 'value1', \n",
    "        'key2': 'value2',\n",
    "        'key3' : 'value3'}\n",
    "print(type(dict))\n",
    "target_file = 'Files/pickled_file.pkl'\n",
    "with open(target_file, 'wb') as file : # wb refers to writing binary\n",
    "    pickle.dump(dict, file)\n",
    "print('successfully pickled')"
   ]
  },
  {
   "cell_type": "markdown",
   "metadata": {},
   "source": [
    "### now reading this serialized file"
   ]
  },
  {
   "cell_type": "code",
   "execution_count": 8,
   "metadata": {},
   "outputs": [
    {
     "name": "stdout",
     "output_type": "stream",
     "text": [
      "<class 'dict'>\n",
      "{'key1': 'value1', 'key2': 'value2', 'key3': 'value3'}\n"
     ]
    }
   ],
   "source": [
    "with open(target_file, 'rb') as file: # rb refers to read binary\n",
    "    loaded_file = pickle.load(file)\n",
    "print(type(loaded_file))\n",
    "print(loaded_file)"
   ]
  },
  {
   "cell_type": "markdown",
   "metadata": {},
   "source": [
    "---"
   ]
  },
  {
   "cell_type": "markdown",
   "metadata": {},
   "source": [
    "## 3. **Openning Excel Files**\n",
    "`pd.ExcelFile()` : load the excel file and it takes the following arguments :\n",
    "1. usecols: list specifying the columns to be selected\n",
    "2. skiprows: list to specify the rows to be skipped\n",
    "3. names: list to set the new names of columns"
   ]
  },
  {
   "cell_type": "code",
   "execution_count": 9,
   "metadata": {},
   "outputs": [
    {
     "name": "stdout",
     "output_type": "stream",
     "text": [
      "['2002', '2004']\n"
     ]
    }
   ],
   "source": [
    "excel_file = pd.ExcelFile('Files/battledeath.xlsx')\n",
    "print(excel_file.sheet_names) # printing the names of the sheets"
   ]
  },
  {
   "cell_type": "markdown",
   "metadata": {},
   "source": [
    "### loading sheets of excel file into dataframes"
   ]
  },
  {
   "cell_type": "code",
   "execution_count": 10,
   "metadata": {},
   "outputs": [
    {
     "data": {
      "text/html": [
       "<div>\n",
       "<style scoped>\n",
       "    .dataframe tbody tr th:only-of-type {\n",
       "        vertical-align: middle;\n",
       "    }\n",
       "\n",
       "    .dataframe tbody tr th {\n",
       "        vertical-align: top;\n",
       "    }\n",
       "\n",
       "    .dataframe thead th {\n",
       "        text-align: right;\n",
       "    }\n",
       "</style>\n",
       "<table border=\"1\" class=\"dataframe\">\n",
       "  <thead>\n",
       "    <tr style=\"text-align: right;\">\n",
       "      <th></th>\n",
       "      <th>Country</th>\n",
       "      <th>Year</th>\n",
       "    </tr>\n",
       "  </thead>\n",
       "  <tbody>\n",
       "    <tr>\n",
       "      <th>0</th>\n",
       "      <td>Afghanistan</td>\n",
       "      <td>36.083990</td>\n",
       "    </tr>\n",
       "    <tr>\n",
       "      <th>1</th>\n",
       "      <td>Albania</td>\n",
       "      <td>0.128908</td>\n",
       "    </tr>\n",
       "  </tbody>\n",
       "</table>\n",
       "</div>"
      ],
      "text/plain": [
       "       Country       Year\n",
       "0  Afghanistan  36.083990\n",
       "1      Albania   0.128908"
      ]
     },
     "execution_count": 10,
     "metadata": {},
     "output_type": "execute_result"
    }
   ],
   "source": [
    "df1 = excel_file.parse('2002', names=['Country', 'Year']) # by name\n",
    "df1.head(2)\n"
   ]
  },
  {
   "cell_type": "code",
   "execution_count": 11,
   "metadata": {},
   "outputs": [
    {
     "data": {
      "text/html": [
       "<div>\n",
       "<style scoped>\n",
       "    .dataframe tbody tr th:only-of-type {\n",
       "        vertical-align: middle;\n",
       "    }\n",
       "\n",
       "    .dataframe tbody tr th {\n",
       "        vertical-align: top;\n",
       "    }\n",
       "\n",
       "    .dataframe thead th {\n",
       "        text-align: right;\n",
       "    }\n",
       "</style>\n",
       "<table border=\"1\" class=\"dataframe\">\n",
       "  <thead>\n",
       "    <tr style=\"text-align: right;\">\n",
       "      <th></th>\n",
       "      <th>War(country)</th>\n",
       "      <th>2004</th>\n",
       "    </tr>\n",
       "  </thead>\n",
       "  <tbody>\n",
       "    <tr>\n",
       "      <th>0</th>\n",
       "      <td>Afghanistan</td>\n",
       "      <td>9.451028</td>\n",
       "    </tr>\n",
       "    <tr>\n",
       "      <th>1</th>\n",
       "      <td>Albania</td>\n",
       "      <td>0.130354</td>\n",
       "    </tr>\n",
       "  </tbody>\n",
       "</table>\n",
       "</div>"
      ],
      "text/plain": [
       "  War(country)      2004\n",
       "0  Afghanistan  9.451028\n",
       "1      Albania  0.130354"
      ]
     },
     "execution_count": 11,
     "metadata": {},
     "output_type": "execute_result"
    }
   ],
   "source": [
    "df2 = excel_file.parse(1) # by index\n",
    "df2.head(2)"
   ]
  },
  {
   "cell_type": "markdown",
   "metadata": {},
   "source": [
    "---"
   ]
  },
  {
   "cell_type": "markdown",
   "metadata": {},
   "source": [
    "## 4. **Openning SAS Files** : \n",
    "### Statistical Analysis System\n",
    "files used for advanced analytics, multivariate analysis, business intelligence, data management , predictive analysis and standart for computational analysis. They have a extension of `.sas7bdat` and `.sas7bcat` \\\n",
    "It can be loaded by a pandas function `pd.read_sas(file)`"
   ]
  },
  {
   "cell_type": "code",
   "execution_count": 12,
   "metadata": {},
   "outputs": [
    {
     "data": {
      "text/html": [
       "<div>\n",
       "<style scoped>\n",
       "    .dataframe tbody tr th:only-of-type {\n",
       "        vertical-align: middle;\n",
       "    }\n",
       "\n",
       "    .dataframe tbody tr th {\n",
       "        vertical-align: top;\n",
       "    }\n",
       "\n",
       "    .dataframe thead th {\n",
       "        text-align: right;\n",
       "    }\n",
       "</style>\n",
       "<table border=\"1\" class=\"dataframe\">\n",
       "  <thead>\n",
       "    <tr style=\"text-align: right;\">\n",
       "      <th></th>\n",
       "      <th>YEAR</th>\n",
       "      <th>P</th>\n",
       "      <th>S</th>\n",
       "    </tr>\n",
       "  </thead>\n",
       "  <tbody>\n",
       "    <tr>\n",
       "      <th>0</th>\n",
       "      <td>1950.0</td>\n",
       "      <td>12.9</td>\n",
       "      <td>181.899994</td>\n",
       "    </tr>\n",
       "    <tr>\n",
       "      <th>1</th>\n",
       "      <td>1951.0</td>\n",
       "      <td>11.9</td>\n",
       "      <td>245.000000</td>\n",
       "    </tr>\n",
       "    <tr>\n",
       "      <th>2</th>\n",
       "      <td>1952.0</td>\n",
       "      <td>10.7</td>\n",
       "      <td>250.199997</td>\n",
       "    </tr>\n",
       "    <tr>\n",
       "      <th>3</th>\n",
       "      <td>1953.0</td>\n",
       "      <td>11.3</td>\n",
       "      <td>265.899994</td>\n",
       "    </tr>\n",
       "    <tr>\n",
       "      <th>4</th>\n",
       "      <td>1954.0</td>\n",
       "      <td>11.2</td>\n",
       "      <td>248.500000</td>\n",
       "    </tr>\n",
       "  </tbody>\n",
       "</table>\n",
       "</div>"
      ],
      "text/plain": [
       "     YEAR     P           S\n",
       "0  1950.0  12.9  181.899994\n",
       "1  1951.0  11.9  245.000000\n",
       "2  1952.0  10.7  250.199997\n",
       "3  1953.0  11.3  265.899994\n",
       "4  1954.0  11.2  248.500000"
      ]
     },
     "execution_count": 12,
     "metadata": {},
     "output_type": "execute_result"
    }
   ],
   "source": [
    "df_sas = pd.read_sas('Files/sales.sas7bdat')\n",
    "df_sas.head()"
   ]
  },
  {
   "cell_type": "markdown",
   "metadata": {},
   "source": [
    "---"
   ]
  },
  {
   "cell_type": "markdown",
   "metadata": {},
   "source": [
    "## 5. **Openning STATA Files** :\n",
    "### Statistics + Data\n",
    "It contains the data about academic social sciences research having the extension dta \\\n",
    "it can be loaded by a pandas function `pd.read_stata(file)`"
   ]
  },
  {
   "cell_type": "code",
   "execution_count": 13,
   "metadata": {},
   "outputs": [
    {
     "data": {
      "text/html": [
       "<div>\n",
       "<style scoped>\n",
       "    .dataframe tbody tr th:only-of-type {\n",
       "        vertical-align: middle;\n",
       "    }\n",
       "\n",
       "    .dataframe tbody tr th {\n",
       "        vertical-align: top;\n",
       "    }\n",
       "\n",
       "    .dataframe thead th {\n",
       "        text-align: right;\n",
       "    }\n",
       "</style>\n",
       "<table border=\"1\" class=\"dataframe\">\n",
       "  <thead>\n",
       "    <tr style=\"text-align: right;\">\n",
       "      <th></th>\n",
       "      <th>wbcode</th>\n",
       "      <th>country</th>\n",
       "      <th>disa1</th>\n",
       "      <th>disa2</th>\n",
       "      <th>disa3</th>\n",
       "      <th>disa4</th>\n",
       "      <th>disa5</th>\n",
       "      <th>disa6</th>\n",
       "      <th>disa7</th>\n",
       "      <th>disa8</th>\n",
       "      <th>...</th>\n",
       "      <th>disa16</th>\n",
       "      <th>disa17</th>\n",
       "      <th>disa18</th>\n",
       "      <th>disa19</th>\n",
       "      <th>disa20</th>\n",
       "      <th>disa21</th>\n",
       "      <th>disa22</th>\n",
       "      <th>disa23</th>\n",
       "      <th>disa24</th>\n",
       "      <th>disa25</th>\n",
       "    </tr>\n",
       "  </thead>\n",
       "  <tbody>\n",
       "    <tr>\n",
       "      <th>0</th>\n",
       "      <td>AFG</td>\n",
       "      <td>Afghanistan</td>\n",
       "      <td>0.00</td>\n",
       "      <td>0.00</td>\n",
       "      <td>0.76</td>\n",
       "      <td>0.73</td>\n",
       "      <td>0.0</td>\n",
       "      <td>0.00</td>\n",
       "      <td>0.00</td>\n",
       "      <td>0.0</td>\n",
       "      <td>...</td>\n",
       "      <td>0.0</td>\n",
       "      <td>0.0</td>\n",
       "      <td>0.0</td>\n",
       "      <td>0.00</td>\n",
       "      <td>0.00</td>\n",
       "      <td>0.0</td>\n",
       "      <td>0.00</td>\n",
       "      <td>0.02</td>\n",
       "      <td>0.00</td>\n",
       "      <td>0.00</td>\n",
       "    </tr>\n",
       "    <tr>\n",
       "      <th>1</th>\n",
       "      <td>AGO</td>\n",
       "      <td>Angola</td>\n",
       "      <td>0.32</td>\n",
       "      <td>0.02</td>\n",
       "      <td>0.56</td>\n",
       "      <td>0.00</td>\n",
       "      <td>0.0</td>\n",
       "      <td>0.00</td>\n",
       "      <td>0.56</td>\n",
       "      <td>0.0</td>\n",
       "      <td>...</td>\n",
       "      <td>0.0</td>\n",
       "      <td>0.4</td>\n",
       "      <td>0.0</td>\n",
       "      <td>0.61</td>\n",
       "      <td>0.00</td>\n",
       "      <td>0.0</td>\n",
       "      <td>0.99</td>\n",
       "      <td>0.98</td>\n",
       "      <td>0.61</td>\n",
       "      <td>0.00</td>\n",
       "    </tr>\n",
       "    <tr>\n",
       "      <th>2</th>\n",
       "      <td>ALB</td>\n",
       "      <td>Albania</td>\n",
       "      <td>0.00</td>\n",
       "      <td>0.00</td>\n",
       "      <td>0.02</td>\n",
       "      <td>0.00</td>\n",
       "      <td>0.0</td>\n",
       "      <td>0.00</td>\n",
       "      <td>0.00</td>\n",
       "      <td>0.0</td>\n",
       "      <td>...</td>\n",
       "      <td>0.0</td>\n",
       "      <td>0.0</td>\n",
       "      <td>0.0</td>\n",
       "      <td>0.00</td>\n",
       "      <td>0.00</td>\n",
       "      <td>0.0</td>\n",
       "      <td>0.00</td>\n",
       "      <td>0.00</td>\n",
       "      <td>0.00</td>\n",
       "      <td>0.16</td>\n",
       "    </tr>\n",
       "    <tr>\n",
       "      <th>3</th>\n",
       "      <td>ARE</td>\n",
       "      <td>United Arab Emirates</td>\n",
       "      <td>0.00</td>\n",
       "      <td>0.00</td>\n",
       "      <td>0.00</td>\n",
       "      <td>0.00</td>\n",
       "      <td>0.0</td>\n",
       "      <td>0.00</td>\n",
       "      <td>0.00</td>\n",
       "      <td>0.0</td>\n",
       "      <td>...</td>\n",
       "      <td>0.0</td>\n",
       "      <td>0.0</td>\n",
       "      <td>0.0</td>\n",
       "      <td>0.00</td>\n",
       "      <td>0.00</td>\n",
       "      <td>0.0</td>\n",
       "      <td>0.00</td>\n",
       "      <td>0.00</td>\n",
       "      <td>0.00</td>\n",
       "      <td>0.00</td>\n",
       "    </tr>\n",
       "    <tr>\n",
       "      <th>4</th>\n",
       "      <td>ARG</td>\n",
       "      <td>Argentina</td>\n",
       "      <td>0.00</td>\n",
       "      <td>0.24</td>\n",
       "      <td>0.24</td>\n",
       "      <td>0.00</td>\n",
       "      <td>0.0</td>\n",
       "      <td>0.23</td>\n",
       "      <td>0.00</td>\n",
       "      <td>0.0</td>\n",
       "      <td>...</td>\n",
       "      <td>0.0</td>\n",
       "      <td>0.0</td>\n",
       "      <td>0.0</td>\n",
       "      <td>0.00</td>\n",
       "      <td>0.05</td>\n",
       "      <td>0.0</td>\n",
       "      <td>0.00</td>\n",
       "      <td>0.01</td>\n",
       "      <td>0.00</td>\n",
       "      <td>0.11</td>\n",
       "    </tr>\n",
       "  </tbody>\n",
       "</table>\n",
       "<p>5 rows × 27 columns</p>\n",
       "</div>"
      ],
      "text/plain": [
       "  wbcode               country  disa1  disa2  disa3  disa4  disa5  disa6  \\\n",
       "0    AFG           Afghanistan   0.00   0.00   0.76   0.73    0.0   0.00   \n",
       "1    AGO                Angola   0.32   0.02   0.56   0.00    0.0   0.00   \n",
       "2    ALB               Albania   0.00   0.00   0.02   0.00    0.0   0.00   \n",
       "3    ARE  United Arab Emirates   0.00   0.00   0.00   0.00    0.0   0.00   \n",
       "4    ARG             Argentina   0.00   0.24   0.24   0.00    0.0   0.23   \n",
       "\n",
       "   disa7  disa8  ...  disa16  disa17  disa18  disa19  disa20  disa21  disa22  \\\n",
       "0   0.00    0.0  ...     0.0     0.0     0.0    0.00    0.00     0.0    0.00   \n",
       "1   0.56    0.0  ...     0.0     0.4     0.0    0.61    0.00     0.0    0.99   \n",
       "2   0.00    0.0  ...     0.0     0.0     0.0    0.00    0.00     0.0    0.00   \n",
       "3   0.00    0.0  ...     0.0     0.0     0.0    0.00    0.00     0.0    0.00   \n",
       "4   0.00    0.0  ...     0.0     0.0     0.0    0.00    0.05     0.0    0.00   \n",
       "\n",
       "   disa23  disa24  disa25  \n",
       "0    0.02    0.00    0.00  \n",
       "1    0.98    0.61    0.00  \n",
       "2    0.00    0.00    0.16  \n",
       "3    0.00    0.00    0.00  \n",
       "4    0.01    0.00    0.11  \n",
       "\n",
       "[5 rows x 27 columns]"
      ]
     },
     "execution_count": 13,
     "metadata": {},
     "output_type": "execute_result"
    }
   ],
   "source": [
    "df_stata = pd.read_stata('Files/disarea.dta')\n",
    "df_stata.head()"
   ]
  },
  {
   "cell_type": "markdown",
   "metadata": {},
   "source": [
    "---"
   ]
  },
  {
   "cell_type": "markdown",
   "metadata": {},
   "source": [
    "## 6. **Openning HDF5 Files** :\n",
    "### Hierarchical Data Format Version 5\n",
    "- Standard for storing the large quantities of numerical data\n",
    "- Datasets can be hundreds of gigabytes and terabytes\n",
    "- HDF5 can scale to exabytes.\n",
    "\n",
    "It can be loaded by `h5py` library , using its attribute `.File`"
   ]
  },
  {
   "cell_type": "markdown",
   "metadata": {},
   "source": [
    "**LIGO** : Laser Interferometer Gravitational-Wave Observatory project \\\n",
    "data is about detecting and studying gravitational waves—ripples in spacetime caused by massive cosmic events."
   ]
  },
  {
   "cell_type": "code",
   "execution_count": 14,
   "metadata": {},
   "outputs": [
    {
     "name": "stdout",
     "output_type": "stream",
     "text": [
      "<class 'h5py._hl.files.File'>\n"
     ]
    }
   ],
   "source": [
    "# pip install h5py\n",
    "import h5py\n",
    "data = h5py.File('Files/LIGO.hdf5', 'r') \n",
    "print(type(data))\n"
   ]
  },
  {
   "cell_type": "markdown",
   "metadata": {},
   "source": [
    "- ### It has a heirarchical structure as that of python dictionary"
   ]
  },
  {
   "cell_type": "code",
   "execution_count": 15,
   "metadata": {},
   "outputs": [
    {
     "name": "stdout",
     "output_type": "stream",
     "text": [
      "meta\n",
      "quality\n",
      "strain\n"
     ]
    }
   ],
   "source": [
    "for key in data.keys():\n",
    "    print(key)"
   ]
  },
  {
   "cell_type": "markdown",
   "metadata": {},
   "source": [
    "- these are the HDF groups or you can say that directories"
   ]
  },
  {
   "cell_type": "code",
   "execution_count": 16,
   "metadata": {},
   "outputs": [
    {
     "name": "stdout",
     "output_type": "stream",
     "text": [
      "<class 'h5py._hl.group.Group'>\n"
     ]
    }
   ],
   "source": [
    "print(type(data['meta']))"
   ]
  },
  {
   "cell_type": "code",
   "execution_count": 17,
   "metadata": {},
   "outputs": [
    {
     "name": "stdout",
     "output_type": "stream",
     "text": [
      "Description\n",
      "DescriptionURL\n",
      "Detector\n",
      "Duration\n",
      "GPSstart\n",
      "Observatory\n",
      "Type\n",
      "UTCstart\n"
     ]
    }
   ],
   "source": [
    "for key in data['meta'].keys():\n",
    "    print(key)"
   ]
  },
  {
   "cell_type": "code",
   "execution_count": 18,
   "metadata": {},
   "outputs": [
    {
     "name": "stdout",
     "output_type": "stream",
     "text": [
      "np.bytes_(b'Strain data time series from LIGO')\n"
     ]
    }
   ],
   "source": [
    "print(np.array(data['meta']['Description']))"
   ]
  },
  {
   "cell_type": "code",
   "execution_count": 19,
   "metadata": {},
   "outputs": [
    {
     "name": "stdout",
     "output_type": "stream",
     "text": [
      "Strain\n"
     ]
    },
    {
     "data": {
      "text/html": [
       "<div>\n",
       "<style scoped>\n",
       "    .dataframe tbody tr th:only-of-type {\n",
       "        vertical-align: middle;\n",
       "    }\n",
       "\n",
       "    .dataframe tbody tr th {\n",
       "        vertical-align: top;\n",
       "    }\n",
       "\n",
       "    .dataframe thead th {\n",
       "        text-align: right;\n",
       "    }\n",
       "</style>\n",
       "<table border=\"1\" class=\"dataframe\">\n",
       "  <thead>\n",
       "    <tr style=\"text-align: right;\">\n",
       "      <th></th>\n",
       "      <th>0</th>\n",
       "    </tr>\n",
       "  </thead>\n",
       "  <tbody>\n",
       "    <tr>\n",
       "      <th>count</th>\n",
       "      <td>1.310720e+05</td>\n",
       "    </tr>\n",
       "    <tr>\n",
       "      <th>mean</th>\n",
       "      <td>-1.828707e-18</td>\n",
       "    </tr>\n",
       "    <tr>\n",
       "      <th>std</th>\n",
       "      <td>2.449094e-19</td>\n",
       "    </tr>\n",
       "    <tr>\n",
       "      <th>min</th>\n",
       "      <td>-2.678809e-18</td>\n",
       "    </tr>\n",
       "    <tr>\n",
       "      <th>25%</th>\n",
       "      <td>-1.984249e-18</td>\n",
       "    </tr>\n",
       "    <tr>\n",
       "      <th>50%</th>\n",
       "      <td>-1.829412e-18</td>\n",
       "    </tr>\n",
       "    <tr>\n",
       "      <th>75%</th>\n",
       "      <td>-1.671364e-18</td>\n",
       "    </tr>\n",
       "    <tr>\n",
       "      <th>max</th>\n",
       "      <td>-7.692662e-19</td>\n",
       "    </tr>\n",
       "  </tbody>\n",
       "</table>\n",
       "</div>"
      ],
      "text/plain": [
       "                  0\n",
       "count  1.310720e+05\n",
       "mean  -1.828707e-18\n",
       "std    2.449094e-19\n",
       "min   -2.678809e-18\n",
       "25%   -1.984249e-18\n",
       "50%   -1.829412e-18\n",
       "75%   -1.671364e-18\n",
       "max   -7.692662e-19"
      ]
     },
     "execution_count": 19,
     "metadata": {},
     "output_type": "execute_result"
    }
   ],
   "source": [
    "# Get the HDF5 group: group\n",
    "group = data['strain']\n",
    "\n",
    "# Check out keys of group\n",
    "for key in group.keys():\n",
    "    print(key)\n",
    "\n",
    "# Set variable equal to time series data: strain\n",
    "strain = np.array(group['Strain'])\n",
    "\n",
    "# Set number of time points to sample: num_samples\n",
    "num_samples = 10000\n",
    "\n",
    "# Set time vector\n",
    "time = np.arange(0, 1, 1/num_samples)\n",
    "\n",
    "pd.DataFrame(strain).describe()"
   ]
  },
  {
   "cell_type": "code",
   "execution_count": 20,
   "metadata": {},
   "outputs": [
    {
     "data": {
      "image/png": "[encoded data removed]",
      "text/plain": [
       "<Figure size 640x480 with 1 Axes>"
      ]
     },
     "metadata": {},
     "output_type": "display_data"
    }
   ],
   "source": [
    "import matplotlib.pyplot as plt\n",
    "# Plot data\n",
    "plt.plot(time, strain[:num_samples])\n",
    "plt.xlabel('GPS Time (s)')\n",
    "plt.ylabel('strain')\n",
    "plt.show()"
   ]
  },
  {
   "cell_type": "markdown",
   "metadata": {},
   "source": [
    "---"
   ]
  },
  {
   "cell_type": "markdown",
   "metadata": {},
   "source": [
    "## 7. **Openning MATLAB Files** :\n",
    "### Matrix Laboratory\n",
    "is a numerical computing environment that is an industry standard in the disciplines of engineering and science. \\\n",
    "we can load the matlab files using `scipy.io` module\n",
    "- `scipy.io.loadmat()` to read .mat files\n",
    "- `scipy.io.savemat()` to write .mat files"
   ]
  },
  {
   "cell_type": "code",
   "execution_count": 21,
   "metadata": {},
   "outputs": [
    {
     "name": "stdout",
     "output_type": "stream",
     "text": [
      "<class 'dict'>\n"
     ]
    }
   ],
   "source": [
    "import scipy.io\n",
    "mat = scipy.io.loadmat('Files/ja_data2.mat')\n",
    "print(type(mat))"
   ]
  },
  {
   "cell_type": "markdown",
   "metadata": {},
   "source": [
    " This file contains gene expression data from the Albeck Lab at UC Davis. \\\n",
    "**keys** - MATLAB variable names \\\n",
    "**values** - objects assigned to variables"
   ]
  },
  {
   "cell_type": "code",
   "execution_count": 22,
   "metadata": {},
   "outputs": [
    {
     "data": {
      "text/plain": [
       "dict_keys(['__header__', '__version__', '__globals__', 'rfpCyt', 'rfpNuc', 'cfpNuc', 'cfpCyt', 'yfpNuc', 'yfpCyt', 'CYratioCyt'])"
      ]
     },
     "execution_count": 22,
     "metadata": {},
     "output_type": "execute_result"
    }
   ],
   "source": [
    "mat.keys()"
   ]
  },
  {
   "cell_type": "code",
   "execution_count": 23,
   "metadata": {},
   "outputs": [
    {
     "data": {
      "text/plain": [
       "b'MATLAB 5.0 MAT-file, Platform: PCWIN64, Created on: Tue Nov 24 17:35:19 2015'"
      ]
     },
     "execution_count": 23,
     "metadata": {},
     "output_type": "execute_result"
    }
   ],
   "source": [
    "mat['__header__']"
   ]
  },
  {
   "cell_type": "code",
   "execution_count": 24,
   "metadata": {},
   "outputs": [
    {
     "name": "stdout",
     "output_type": "stream",
     "text": [
      "<class 'numpy.ndarray'>\n",
      "(200, 137)\n"
     ]
    },
    {
     "data": {
      "image/png": "[encoded data removed]",
      "text/plain": [
       "<Figure size 640x480 with 1 Axes>"
      ]
     },
     "metadata": {},
     "output_type": "display_data"
    }
   ],
   "source": [
    "# Print the type of the value corresponding to the key 'CYratioCyt'\n",
    "print(type(mat['CYratioCyt']))\n",
    "\n",
    "# Print the shape of the value corresponding to the key 'CYratioCyt'\n",
    "print(np.shape(mat['CYratioCyt']))\n",
    "\n",
    "# Subset the array and plot it\n",
    "data = mat['CYratioCyt'][25, 5:]\n",
    "fig = plt.figure()\n",
    "plt.plot(data)\n",
    "plt.xlabel('time (min.)')\n",
    "plt.ylabel('normalized fluorescence (measure of expression)')\n",
    "plt.show()\n"
   ]
  },
  {
   "cell_type": "code",
   "execution_count": 25,
   "metadata": {},
   "outputs": [
    {
     "data": {
      "text/html": [
       "<div>\n",
       "<style scoped>\n",
       "    .dataframe tbody tr th:only-of-type {\n",
       "        vertical-align: middle;\n",
       "    }\n",
       "\n",
       "    .dataframe tbody tr th {\n",
       "        vertical-align: top;\n",
       "    }\n",
       "\n",
       "    .dataframe thead th {\n",
       "        text-align: right;\n",
       "    }\n",
       "</style>\n",
       "<table border=\"1\" class=\"dataframe\">\n",
       "  <thead>\n",
       "    <tr style=\"text-align: right;\">\n",
       "      <th></th>\n",
       "      <th>0</th>\n",
       "    </tr>\n",
       "  </thead>\n",
       "  <tbody>\n",
       "    <tr>\n",
       "      <th>0</th>\n",
       "      <td>1.454528</td>\n",
       "    </tr>\n",
       "    <tr>\n",
       "      <th>1</th>\n",
       "      <td>1.455656</td>\n",
       "    </tr>\n",
       "    <tr>\n",
       "      <th>2</th>\n",
       "      <td>1.449769</td>\n",
       "    </tr>\n",
       "    <tr>\n",
       "      <th>3</th>\n",
       "      <td>1.434627</td>\n",
       "    </tr>\n",
       "    <tr>\n",
       "      <th>4</th>\n",
       "      <td>1.422547</td>\n",
       "    </tr>\n",
       "  </tbody>\n",
       "</table>\n",
       "</div>"
      ],
      "text/plain": [
       "          0\n",
       "0  1.454528\n",
       "1  1.455656\n",
       "2  1.449769\n",
       "3  1.434627\n",
       "4  1.422547"
      ]
     },
     "execution_count": 25,
     "metadata": {},
     "output_type": "execute_result"
    }
   ],
   "source": [
    "pd.DataFrame(data).head()"
   ]
  },
  {
   "cell_type": "code",
   "execution_count": 26,
   "metadata": {},
   "outputs": [
    {
     "data": {
      "text/html": [
       "<div>\n",
       "<style scoped>\n",
       "    .dataframe tbody tr th:only-of-type {\n",
       "        vertical-align: middle;\n",
       "    }\n",
       "\n",
       "    .dataframe tbody tr th {\n",
       "        vertical-align: top;\n",
       "    }\n",
       "\n",
       "    .dataframe thead th {\n",
       "        text-align: right;\n",
       "    }\n",
       "</style>\n",
       "<table border=\"1\" class=\"dataframe\">\n",
       "  <thead>\n",
       "    <tr style=\"text-align: right;\">\n",
       "      <th></th>\n",
       "      <th>0</th>\n",
       "      <th>1</th>\n",
       "      <th>2</th>\n",
       "      <th>3</th>\n",
       "      <th>4</th>\n",
       "      <th>5</th>\n",
       "      <th>6</th>\n",
       "      <th>7</th>\n",
       "      <th>8</th>\n",
       "      <th>9</th>\n",
       "      <th>...</th>\n",
       "      <th>127</th>\n",
       "      <th>128</th>\n",
       "      <th>129</th>\n",
       "      <th>130</th>\n",
       "      <th>131</th>\n",
       "      <th>132</th>\n",
       "      <th>133</th>\n",
       "      <th>134</th>\n",
       "      <th>135</th>\n",
       "      <th>136</th>\n",
       "    </tr>\n",
       "  </thead>\n",
       "  <tbody>\n",
       "    <tr>\n",
       "      <th>count</th>\n",
       "      <td>200.0</td>\n",
       "      <td>200.000000</td>\n",
       "      <td>200.000000</td>\n",
       "      <td>200.000000</td>\n",
       "      <td>200.000000</td>\n",
       "      <td>200.000000</td>\n",
       "      <td>200.000000</td>\n",
       "      <td>200.000000</td>\n",
       "      <td>200.000000</td>\n",
       "      <td>200.000000</td>\n",
       "      <td>...</td>\n",
       "      <td>200.000000</td>\n",
       "      <td>200.000000</td>\n",
       "      <td>200.000000</td>\n",
       "      <td>200.000000</td>\n",
       "      <td>200.000000</td>\n",
       "      <td>200.000000</td>\n",
       "      <td>200.000000</td>\n",
       "      <td>200.000000</td>\n",
       "      <td>200.000000</td>\n",
       "      <td>200.000000</td>\n",
       "    </tr>\n",
       "    <tr>\n",
       "      <th>mean</th>\n",
       "      <td>0.0</td>\n",
       "      <td>1.408837</td>\n",
       "      <td>1.392035</td>\n",
       "      <td>1.379687</td>\n",
       "      <td>1.370061</td>\n",
       "      <td>1.388614</td>\n",
       "      <td>1.373665</td>\n",
       "      <td>1.345539</td>\n",
       "      <td>1.337595</td>\n",
       "      <td>1.331880</td>\n",
       "      <td>...</td>\n",
       "      <td>1.041964</td>\n",
       "      <td>1.029976</td>\n",
       "      <td>1.014401</td>\n",
       "      <td>1.016304</td>\n",
       "      <td>1.010739</td>\n",
       "      <td>1.005537</td>\n",
       "      <td>0.996297</td>\n",
       "      <td>0.991505</td>\n",
       "      <td>0.983227</td>\n",
       "      <td>0.966688</td>\n",
       "    </tr>\n",
       "    <tr>\n",
       "      <th>std</th>\n",
       "      <td>0.0</td>\n",
       "      <td>0.351059</td>\n",
       "      <td>0.376590</td>\n",
       "      <td>0.387506</td>\n",
       "      <td>0.396953</td>\n",
       "      <td>0.358171</td>\n",
       "      <td>0.370085</td>\n",
       "      <td>0.393731</td>\n",
       "      <td>0.367950</td>\n",
       "      <td>0.330173</td>\n",
       "      <td>...</td>\n",
       "      <td>0.460576</td>\n",
       "      <td>0.470808</td>\n",
       "      <td>0.480565</td>\n",
       "      <td>0.481179</td>\n",
       "      <td>0.495405</td>\n",
       "      <td>0.500308</td>\n",
       "      <td>0.503922</td>\n",
       "      <td>0.499619</td>\n",
       "      <td>0.503204</td>\n",
       "      <td>0.516829</td>\n",
       "    </tr>\n",
       "    <tr>\n",
       "      <th>min</th>\n",
       "      <td>0.0</td>\n",
       "      <td>0.000000</td>\n",
       "      <td>0.000000</td>\n",
       "      <td>0.000000</td>\n",
       "      <td>0.000000</td>\n",
       "      <td>0.000000</td>\n",
       "      <td>0.000000</td>\n",
       "      <td>0.000000</td>\n",
       "      <td>0.000000</td>\n",
       "      <td>0.000000</td>\n",
       "      <td>...</td>\n",
       "      <td>0.000000</td>\n",
       "      <td>0.000000</td>\n",
       "      <td>0.000000</td>\n",
       "      <td>0.000000</td>\n",
       "      <td>0.000000</td>\n",
       "      <td>0.000000</td>\n",
       "      <td>0.000000</td>\n",
       "      <td>0.000000</td>\n",
       "      <td>0.000000</td>\n",
       "      <td>0.000000</td>\n",
       "    </tr>\n",
       "    <tr>\n",
       "      <th>25%</th>\n",
       "      <td>0.0</td>\n",
       "      <td>1.393031</td>\n",
       "      <td>1.391373</td>\n",
       "      <td>1.387372</td>\n",
       "      <td>1.382772</td>\n",
       "      <td>1.380358</td>\n",
       "      <td>1.371238</td>\n",
       "      <td>1.349710</td>\n",
       "      <td>1.323704</td>\n",
       "      <td>1.263944</td>\n",
       "      <td>...</td>\n",
       "      <td>1.049192</td>\n",
       "      <td>1.049052</td>\n",
       "      <td>1.042081</td>\n",
       "      <td>1.048002</td>\n",
       "      <td>1.041057</td>\n",
       "      <td>1.039985</td>\n",
       "      <td>1.037862</td>\n",
       "      <td>1.034051</td>\n",
       "      <td>1.034035</td>\n",
       "      <td>1.006207</td>\n",
       "    </tr>\n",
       "    <tr>\n",
       "      <th>50%</th>\n",
       "      <td>0.0</td>\n",
       "      <td>1.454653</td>\n",
       "      <td>1.451012</td>\n",
       "      <td>1.444030</td>\n",
       "      <td>1.446156</td>\n",
       "      <td>1.444101</td>\n",
       "      <td>1.434183</td>\n",
       "      <td>1.420340</td>\n",
       "      <td>1.401266</td>\n",
       "      <td>1.383947</td>\n",
       "      <td>...</td>\n",
       "      <td>1.163726</td>\n",
       "      <td>1.159743</td>\n",
       "      <td>1.148421</td>\n",
       "      <td>1.145639</td>\n",
       "      <td>1.150942</td>\n",
       "      <td>1.158198</td>\n",
       "      <td>1.155401</td>\n",
       "      <td>1.148527</td>\n",
       "      <td>1.147220</td>\n",
       "      <td>1.146832</td>\n",
       "    </tr>\n",
       "    <tr>\n",
       "      <th>75%</th>\n",
       "      <td>0.0</td>\n",
       "      <td>1.532084</td>\n",
       "      <td>1.533912</td>\n",
       "      <td>1.530091</td>\n",
       "      <td>1.527605</td>\n",
       "      <td>1.529555</td>\n",
       "      <td>1.520628</td>\n",
       "      <td>1.518171</td>\n",
       "      <td>1.509478</td>\n",
       "      <td>1.499859</td>\n",
       "      <td>...</td>\n",
       "      <td>1.300804</td>\n",
       "      <td>1.301889</td>\n",
       "      <td>1.295614</td>\n",
       "      <td>1.293896</td>\n",
       "      <td>1.301225</td>\n",
       "      <td>1.307502</td>\n",
       "      <td>1.296774</td>\n",
       "      <td>1.296642</td>\n",
       "      <td>1.293104</td>\n",
       "      <td>1.290623</td>\n",
       "    </tr>\n",
       "    <tr>\n",
       "      <th>max</th>\n",
       "      <td>0.0</td>\n",
       "      <td>2.080113</td>\n",
       "      <td>2.064117</td>\n",
       "      <td>2.046049</td>\n",
       "      <td>2.012650</td>\n",
       "      <td>2.012057</td>\n",
       "      <td>1.962242</td>\n",
       "      <td>1.937324</td>\n",
       "      <td>1.915598</td>\n",
       "      <td>1.925639</td>\n",
       "      <td>...</td>\n",
       "      <td>1.656239</td>\n",
       "      <td>1.647707</td>\n",
       "      <td>1.650113</td>\n",
       "      <td>1.649804</td>\n",
       "      <td>1.652767</td>\n",
       "      <td>1.649632</td>\n",
       "      <td>1.651486</td>\n",
       "      <td>1.649649</td>\n",
       "      <td>1.643667</td>\n",
       "      <td>1.644845</td>\n",
       "    </tr>\n",
       "  </tbody>\n",
       "</table>\n",
       "<p>8 rows × 137 columns</p>\n",
       "</div>"
      ],
      "text/plain": [
       "         0           1           2           3           4           5    \\\n",
       "count  200.0  200.000000  200.000000  200.000000  200.000000  200.000000   \n",
       "mean     0.0    1.408837    1.392035    1.379687    1.370061    1.388614   \n",
       "std      0.0    0.351059    0.376590    0.387506    0.396953    0.358171   \n",
       "min      0.0    0.000000    0.000000    0.000000    0.000000    0.000000   \n",
       "25%      0.0    1.393031    1.391373    1.387372    1.382772    1.380358   \n",
       "50%      0.0    1.454653    1.451012    1.444030    1.446156    1.444101   \n",
       "75%      0.0    1.532084    1.533912    1.530091    1.527605    1.529555   \n",
       "max      0.0    2.080113    2.064117    2.046049    2.012650    2.012057   \n",
       "\n",
       "              6           7           8           9    ...         127  \\\n",
       "count  200.000000  200.000000  200.000000  200.000000  ...  200.000000   \n",
       "mean     1.373665    1.345539    1.337595    1.331880  ...    1.041964   \n",
       "std      0.370085    0.393731    0.367950    0.330173  ...    0.460576   \n",
       "min      0.000000    0.000000    0.000000    0.000000  ...    0.000000   \n",
       "25%      1.371238    1.349710    1.323704    1.263944  ...    1.049192   \n",
       "50%      1.434183    1.420340    1.401266    1.383947  ...    1.163726   \n",
       "75%      1.520628    1.518171    1.509478    1.499859  ...    1.300804   \n",
       "max      1.962242    1.937324    1.915598    1.925639  ...    1.656239   \n",
       "\n",
       "              128         129         130         131         132         133  \\\n",
       "count  200.000000  200.000000  200.000000  200.000000  200.000000  200.000000   \n",
       "mean     1.029976    1.014401    1.016304    1.010739    1.005537    0.996297   \n",
       "std      0.470808    0.480565    0.481179    0.495405    0.500308    0.503922   \n",
       "min      0.000000    0.000000    0.000000    0.000000    0.000000    0.000000   \n",
       "25%      1.049052    1.042081    1.048002    1.041057    1.039985    1.037862   \n",
       "50%      1.159743    1.148421    1.145639    1.150942    1.158198    1.155401   \n",
       "75%      1.301889    1.295614    1.293896    1.301225    1.307502    1.296774   \n",
       "max      1.647707    1.650113    1.649804    1.652767    1.649632    1.651486   \n",
       "\n",
       "              134         135         136  \n",
       "count  200.000000  200.000000  200.000000  \n",
       "mean     0.991505    0.983227    0.966688  \n",
       "std      0.499619    0.503204    0.516829  \n",
       "min      0.000000    0.000000    0.000000  \n",
       "25%      1.034051    1.034035    1.006207  \n",
       "50%      1.148527    1.147220    1.146832  \n",
       "75%      1.296642    1.293104    1.290623  \n",
       "max      1.649649    1.643667    1.644845  \n",
       "\n",
       "[8 rows x 137 columns]"
      ]
     },
     "execution_count": 26,
     "metadata": {},
     "output_type": "execute_result"
    }
   ],
   "source": [
    "pd.DataFrame(mat['CYratioCyt']).describe()"
   ]
  },
  {
   "cell_type": "markdown",
   "metadata": {},
   "source": [
    "___"
   ]
  },
  {
   "cell_type": "markdown",
   "metadata": {},
   "source": [
    "## 8. **Openning RDBS Files** :\n",
    "### Relational Databases\n",
    "A set of linked tables where each tables represents an entity and each row is an intance of that entity and each column is the attribute of that entity or the feature of its instances. \n",
    "- The tables are linked through the primary and foreign key, a unique identification of each instances of an entity.\n",
    "- There are many Data Base managment systems to work with databases, but here we will use \"SQLite\".\n",
    "\n",
    "we will use `sqlalchemy`library and its module `create_engine` to connect to a database."
   ]
  },
  {
   "cell_type": "code",
   "execution_count": 27,
   "metadata": {},
   "outputs": [],
   "source": [
    "# import sys\n",
    "# !{sys.executable} -m pip install SQLAlchemy\n"
   ]
  },
  {
   "cell_type": "code",
   "execution_count": 28,
   "metadata": {},
   "outputs": [
    {
     "data": {
      "text/plain": [
       "['Album',\n",
       " 'Artist',\n",
       " 'Customer',\n",
       " 'Employee',\n",
       " 'Genre',\n",
       " 'Invoice',\n",
       " 'InvoiceLine',\n",
       " 'MediaType',\n",
       " 'Playlist',\n",
       " 'PlaylistTrack',\n",
       " 'Track']"
      ]
     },
     "execution_count": 28,
     "metadata": {},
     "output_type": "execute_result"
    }
   ],
   "source": [
    "from sqlalchemy import create_engine\n",
    "from sqlalchemy import inspect\n",
    "import pandas as pd\n",
    "# Use the correct format for SQLite\n",
    "engine = create_engine('sqlite:///Files/Chinook.sqlite')\n",
    "inspector = inspect(engine)\n",
    "table_names = inspector.get_table_names()\n",
    "table_names\n"
   ]
  },
  {
   "cell_type": "markdown",
   "metadata": {},
   "source": [
    "querring the database by using context manager"
   ]
  },
  {
   "cell_type": "code",
   "execution_count": 29,
   "metadata": {},
   "outputs": [
    {
     "data": {
      "text/html": [
       "<div>\n",
       "<style scoped>\n",
       "    .dataframe tbody tr th:only-of-type {\n",
       "        vertical-align: middle;\n",
       "    }\n",
       "\n",
       "    .dataframe tbody tr th {\n",
       "        vertical-align: top;\n",
       "    }\n",
       "\n",
       "    .dataframe thead th {\n",
       "        text-align: right;\n",
       "    }\n",
       "</style>\n",
       "<table border=\"1\" class=\"dataframe\">\n",
       "  <thead>\n",
       "    <tr style=\"text-align: right;\">\n",
       "      <th></th>\n",
       "      <th>AlbumId</th>\n",
       "      <th>Title</th>\n",
       "      <th>ArtistId</th>\n",
       "    </tr>\n",
       "  </thead>\n",
       "  <tbody>\n",
       "    <tr>\n",
       "      <th>0</th>\n",
       "      <td>1</td>\n",
       "      <td>For Those About To Rock We Salute You</td>\n",
       "      <td>1</td>\n",
       "    </tr>\n",
       "    <tr>\n",
       "      <th>1</th>\n",
       "      <td>2</td>\n",
       "      <td>Balls to the Wall</td>\n",
       "      <td>2</td>\n",
       "    </tr>\n",
       "    <tr>\n",
       "      <th>2</th>\n",
       "      <td>3</td>\n",
       "      <td>Restless and Wild</td>\n",
       "      <td>2</td>\n",
       "    </tr>\n",
       "    <tr>\n",
       "      <th>3</th>\n",
       "      <td>4</td>\n",
       "      <td>Let There Be Rock</td>\n",
       "      <td>1</td>\n",
       "    </tr>\n",
       "    <tr>\n",
       "      <th>4</th>\n",
       "      <td>5</td>\n",
       "      <td>Big Ones</td>\n",
       "      <td>3</td>\n",
       "    </tr>\n",
       "  </tbody>\n",
       "</table>\n",
       "</div>"
      ],
      "text/plain": [
       "   AlbumId                                  Title  ArtistId\n",
       "0        1  For Those About To Rock We Salute You         1\n",
       "1        2                      Balls to the Wall         2\n",
       "2        3                      Restless and Wild         2\n",
       "3        4                      Let There Be Rock         1\n",
       "4        5                               Big Ones         3"
      ]
     },
     "execution_count": 29,
     "metadata": {},
     "output_type": "execute_result"
    }
   ],
   "source": [
    "from sqlalchemy import text\n",
    "with engine.connect() as con:\n",
    "    rs = con.execute(text('select * from Album'))\n",
    "    df = pd.DataFrame(rs.fetchall())\n",
    "    df.columns = rs.keys()\n",
    "df.head()"
   ]
  },
  {
   "cell_type": "markdown",
   "metadata": {},
   "source": [
    "querring relational databases directly with pandas"
   ]
  },
  {
   "cell_type": "code",
   "execution_count": 30,
   "metadata": {},
   "outputs": [
    {
     "data": {
      "text/html": [
       "<div>\n",
       "<style scoped>\n",
       "    .dataframe tbody tr th:only-of-type {\n",
       "        vertical-align: middle;\n",
       "    }\n",
       "\n",
       "    .dataframe tbody tr th {\n",
       "        vertical-align: top;\n",
       "    }\n",
       "\n",
       "    .dataframe thead th {\n",
       "        text-align: right;\n",
       "    }\n",
       "</style>\n",
       "<table border=\"1\" class=\"dataframe\">\n",
       "  <thead>\n",
       "    <tr style=\"text-align: right;\">\n",
       "      <th></th>\n",
       "      <th>TrackId</th>\n",
       "      <th>Name</th>\n",
       "      <th>AlbumId</th>\n",
       "      <th>MediaTypeId</th>\n",
       "      <th>GenreId</th>\n",
       "      <th>Composer</th>\n",
       "      <th>Milliseconds</th>\n",
       "      <th>Bytes</th>\n",
       "      <th>UnitPrice</th>\n",
       "    </tr>\n",
       "  </thead>\n",
       "  <tbody>\n",
       "    <tr>\n",
       "      <th>0</th>\n",
       "      <td>1</td>\n",
       "      <td>For Those About To Rock (We Salute You)</td>\n",
       "      <td>1</td>\n",
       "      <td>1</td>\n",
       "      <td>1</td>\n",
       "      <td>Angus Young, Malcolm Young, Brian Johnson</td>\n",
       "      <td>343719</td>\n",
       "      <td>11170334</td>\n",
       "      <td>0.99</td>\n",
       "    </tr>\n",
       "    <tr>\n",
       "      <th>1</th>\n",
       "      <td>2</td>\n",
       "      <td>Balls to the Wall</td>\n",
       "      <td>2</td>\n",
       "      <td>2</td>\n",
       "      <td>1</td>\n",
       "      <td>None</td>\n",
       "      <td>342562</td>\n",
       "      <td>5510424</td>\n",
       "      <td>0.99</td>\n",
       "    </tr>\n",
       "    <tr>\n",
       "      <th>2</th>\n",
       "      <td>3</td>\n",
       "      <td>Fast As a Shark</td>\n",
       "      <td>3</td>\n",
       "      <td>2</td>\n",
       "      <td>1</td>\n",
       "      <td>F. Baltes, S. Kaufman, U. Dirkscneider &amp; W. Ho...</td>\n",
       "      <td>230619</td>\n",
       "      <td>3990994</td>\n",
       "      <td>0.99</td>\n",
       "    </tr>\n",
       "    <tr>\n",
       "      <th>3</th>\n",
       "      <td>4</td>\n",
       "      <td>Restless and Wild</td>\n",
       "      <td>3</td>\n",
       "      <td>2</td>\n",
       "      <td>1</td>\n",
       "      <td>F. Baltes, R.A. Smith-Diesel, S. Kaufman, U. D...</td>\n",
       "      <td>252051</td>\n",
       "      <td>4331779</td>\n",
       "      <td>0.99</td>\n",
       "    </tr>\n",
       "    <tr>\n",
       "      <th>4</th>\n",
       "      <td>5</td>\n",
       "      <td>Princess of the Dawn</td>\n",
       "      <td>3</td>\n",
       "      <td>2</td>\n",
       "      <td>1</td>\n",
       "      <td>Deaffy &amp; R.A. Smith-Diesel</td>\n",
       "      <td>375418</td>\n",
       "      <td>6290521</td>\n",
       "      <td>0.99</td>\n",
       "    </tr>\n",
       "  </tbody>\n",
       "</table>\n",
       "</div>"
      ],
      "text/plain": [
       "   TrackId                                     Name  AlbumId  MediaTypeId  \\\n",
       "0        1  For Those About To Rock (We Salute You)        1            1   \n",
       "1        2                        Balls to the Wall        2            2   \n",
       "2        3                          Fast As a Shark        3            2   \n",
       "3        4                        Restless and Wild        3            2   \n",
       "4        5                     Princess of the Dawn        3            2   \n",
       "\n",
       "   GenreId                                           Composer  Milliseconds  \\\n",
       "0        1          Angus Young, Malcolm Young, Brian Johnson        343719   \n",
       "1        1                                               None        342562   \n",
       "2        1  F. Baltes, S. Kaufman, U. Dirkscneider & W. Ho...        230619   \n",
       "3        1  F. Baltes, R.A. Smith-Diesel, S. Kaufman, U. D...        252051   \n",
       "4        1                         Deaffy & R.A. Smith-Diesel        375418   \n",
       "\n",
       "      Bytes  UnitPrice  \n",
       "0  11170334       0.99  \n",
       "1   5510424       0.99  \n",
       "2   3990994       0.99  \n",
       "3   4331779       0.99  \n",
       "4   6290521       0.99  "
      ]
     },
     "execution_count": 30,
     "metadata": {},
     "output_type": "execute_result"
    }
   ],
   "source": [
    "df = pd.read_sql('select * from Track', con=engine)\n",
    "df.head()"
   ]
  },
  {
   "cell_type": "markdown",
   "metadata": {},
   "source": [
    "---"
   ]
  },
  {
   "cell_type": "markdown",
   "metadata": {},
   "source": [
    "<div style=\"\n",
    "    background-color: #0f0f1a;\n",
    "    color: #00ffff;\n",
    "    font-family: 'Segoe UI', Tahoma, Geneva, Verdana, sans-serif;\n",
    "    padding: 30px;\n",
    "    border-radius: 10px;\n",
    "    text-align: center;\n",
    "    box-shadow: 0 0 20px #00ffff;\n",
    "    font-size: 28px;\n",
    "    font-weight: bold;\n",
    "    margin-top: 40px;\n",
    "    margin-bottom: 10px;\n",
    "     max-width: 100%;\n",
    "    overflow-wrap: break-word;\n",
    "    word-wrap: break-word;\n",
    "    box-sizing: border-box;\n",
    "\">\n",
    "     Conclusion\n",
    "</div>\n",
    "\n",
    "<div style=\"\n",
    "    background-color: #121212;\n",
    "    color: #e0f7fa;\n",
    "    font-family: 'Segoe UI', Tahoma, Geneva, Verdana, sans-serif;\n",
    "    padding: 25px;\n",
    "    border-radius: 10px;\n",
    "    font-size: 16px;\n",
    "    line-height: 1.7;\n",
    "    box-shadow: 0 0 10px rgba(0, 255, 255, 0.1);\n",
    "    text-align: justify;\n",
    "     max-width: 100%;\n",
    "    overflow-wrap: break-word;\n",
    "    word-wrap: break-word;\n",
    "    box-sizing: border-box;\n",
    "\">\n",
    "    This notebook provided a comprehensive overview of various data import techniques in Python.\n",
    "    From reading basic flat files using <code>open()</code> and context managers to working with structured data using\n",
    "    <code>NumPy</code> and <code>pandas</code>, we explored efficient and practical ways to handle real-world data.\n",
    "    We also covered Excel, pickle serialization, and database extraction—equipping you with essential tools for\n",
    "    data preprocessing and analysis. Whether you are a beginner or refining your workflow, mastering these techniques\n",
    "    will significantly enhance your ability to work confidently with diverse data sources in Python.\n",
    "</div>\n",
    "\n",
    "\n"
   ]
  },
  {
   "cell_type": "markdown",
   "metadata": {},
   "source": [
    "<div style=\"\n",
    "    background-color: #0f0f1a;\n",
    "    color: #00ffff;\n",
    "    font-family: 'Segoe UI', Tahoma, Geneva, Verdana, sans-serif;\n",
    "    padding: 30px;\n",
    "    border-radius: 10px;\n",
    "    text-align: center;\n",
    "    box-shadow: 0 0 20px #00ffff;\n",
    "    font-size: 28px;\n",
    "    font-weight: bold;\n",
    "    margin-top: 40px;\n",
    "    margin-bottom: 10px;\n",
    "\">\n",
    "     Connect with Me\n",
    "</div>\n",
    "\n",
    "<div style=\"\n",
    "    background-color: #121212;\n",
    "    color: #e0f7fa;\n",
    "    font-family: 'Segoe UI', Tahoma, Geneva, Verdana, sans-serif;\n",
    "    padding: 25px;\n",
    "    border-radius: 10px;\n",
    "    font-size: 16px;\n",
    "    line-height: 1.7;\n",
    "    box-shadow: 0 0 10px rgba(0, 255, 255, 0.1);\n",
    "    text-align: center;\n",
    "    max-width: 100%;\n",
    "    overflow-wrap: break-word;\n",
    "    box-sizing: border-box;\n",
    "\">\n",
    "\n",
    "<strong>Name:</strong> Muhammad Taha<br>\n",
    "<strong>Email:</strong> <a href=\"mailto:contact.taha2005@gmail.com\" style=\"color:#00ffff;\">contact.taha2005@gmail.com</a><br><br>\n",
    "\n",
    "<div style=\"text-align: left;\">\n",
    "    <a href=\"https://github.com/MuhammadTaha1038\" target=\"_blank\" style=\"margin-right: 30px;\">\n",
    "        <img src=\"https://cdn-icons-png.flaticon.com/512/733/733553.png\" width=\"50\" />\n",
    "    </a>\n",
    "    <a href=\"https://linkedin.com/in/muhammad-taha-b88807248/\" target=\"_blank\">\n",
    "        <img src=\"https://cdn-icons-png.flaticon.com/512/145/145807.png\" width=\"50\" />\n",
    "    </a>\n",
    "    <p style=\"color: gray;text-align:left; margin-top: 10px;\">GitHub &nbsp;&nbsp;&nbsp;&nbsp;&nbsp;&nbsp; LinkedIn</p>\n",
    "</div>\n",
    "\n",
    "</div>\n"
   ]
  },
  {
   "cell_type": "markdown",
   "metadata": {},
   "source": [
    "<div style=\"\n",
    "    background-color: #0f0f1a;\n",
    "    color: #00ffff;\n",
    "    font-family: 'Segoe UI', Tahoma, Geneva, Verdana, sans-serif;\n",
    "    padding: 30px;\n",
    "    border-radius: 10px;\n",
    "    text-align: center;\n",
    "    box-shadow: 0 0 20px #00ffff;\n",
    "    font-size: 28px;\n",
    "    font-weight: bold;\n",
    "    margin-top: 40px;\n",
    "    margin-bottom: 10px;\n",
    "\">\n",
    "     Next To Do\n",
    "</div>\n",
    "\n",
    "<div style=\"\n",
    "    background-color: #121212;\n",
    "    color: #e0f7fa;\n",
    "    font-family: 'Segoe UI', Tahoma, Geneva, Verdana, sans-serif;\n",
    "    padding: 25px;\n",
    "    border-radius: 10px;\n",
    "    font-size: 16px;\n",
    "    line-height: 1.7;\n",
    "    box-shadow: 0 0 10px rgba(0, 255, 255, 0.1);\n",
    "\">\n",
    "    The following topics will be added in the next update of this notebook to make it even more comprehensive:\n",
    "    <ul style=\"margin-top: 10px;\">\n",
    "        <li> Reading JSON files </li>\n",
    "        <li> Reading HTML tables </li>\n",
    "        <li> Importing data from web APIs </li>\n",
    "        <li> Working with compressed files (ZIP, TAR, GZIP)</li>\n",
    "        <li> Integrating data import with data visualization workflows</li>\n",
    "        <li> Connecting to cloud-based sources like Google Sheets or AWS S3</li>\n",
    "    </ul>\n",
    "    Stay tuned! \n",
    "</div>\n"
   ]
  }
 ],
 "metadata": {
  "kernelspec": {
   "display_name": "Python 3",
   "language": "python",
   "name": "python3"
  },
  "language_info": {
   "codemirror_mode": {
    "name": "ipython",
    "version": 3
   },
   "file_extension": ".py",
   "mimetype": "text/x-python",
   "name": "python",
   "nbconvert_exporter": "python",
   "pygments_lexer": "ipython3",
   "version": "3.12.4"
  }
 },
 "nbformat": 4,
 "nbformat_minor": 2
}
